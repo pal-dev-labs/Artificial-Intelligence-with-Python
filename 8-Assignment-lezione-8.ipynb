{
 "cells": [
  {
   "cell_type": "markdown",
   "id": "3aae0567",
   "metadata": {},
   "source": [
    "# ASSIGNMENT LEZIONE 8 : Linear Regression"
   ]
  },
  {
   "cell_type": "markdown",
   "id": "2dc7de99",
   "metadata": {},
   "source": [
    "# ESERCIZIO 1"
   ]
  },
  {
   "cell_type": "markdown",
   "id": "0b0efe0e",
   "metadata": {},
   "source": [
    "Supponiamo di avere il seguente dataset che rappresenta il numero di ore di studio e il punteggio ottenuto in un esame:\n",
    "\n",
    "Ore di studio | Punteggio\n",
    "--------------------------\n",
    "     1        |    60\n",
    "     2        |    70\n",
    "     3        |    80\n",
    "     4        |    85\n",
    "     5        |    90\n",
    "     6        |    95\n",
    "     7        |    100\n"
   ]
  },
  {
   "cell_type": "markdown",
   "id": "c3b6e738",
   "metadata": {},
   "source": [
    "Il tuo obiettivo è di costruire un modello di regressione lineare che ti permetta di predire il punteggio di un esame in base al numero di ore di studio. \n",
    "Segui i seguenti step:\n",
    "- Costruisci gli array per le features e per i targets\n",
    "- Visualizzi i dati con uno scatterplot\n",
    "- Istanzi un oggetto model della classe LinearRegression\n",
    "- Efettui un training sui dati\n",
    "- Stampi i valori dei parametri\n",
    "- Costruisci la retta di regressione e la plotti insieme allo scatterplot dei dati\n",
    "- Effettui una predizione dello score per uno studio di 2.3, 5, 12.2 ore\n",
    "- Plotti sullo scatterplot i punti corrispondenti alla predizione\n",
    "- Calcoli il valore della cost function per i parametri che hai calcolato"
   ]
  },
  {
   "cell_type": "code",
   "execution_count": null,
   "id": "58bb38dd",
   "metadata": {},
   "outputs": [],
   "source": []
  },
  {
   "cell_type": "markdown",
   "id": "6a46efa8",
   "metadata": {},
   "source": [
    "# ESERCIZIO 2"
   ]
  },
  {
   "cell_type": "markdown",
   "id": "26535052",
   "metadata": {},
   "source": [
    "Un dataset sul consumo di carburante può essere trovato su diversi siti web e repository online. Ecco alcuni esempi:\n",
    "\n",
    "UCI Machine Learning Repository: il dataset \"Auto MPG Data Set\" contiene informazioni sul consumo di carburante di diverse auto insieme ad altre caratteristiche come il numero di cilindri, la potenza del motore, il peso, ecc. Il dataset può essere scaricato da questo link: https://archive.ics.uci.edu/ml/datasets/auto+mpg\n",
    "\n",
    "Kaggle: Kaggle ospita molti dataset, tra cui il dataset \"Fuel Economy Data\" che contiene informazioni sul consumo di carburante e sulle emissioni di gas di scarico di diversi veicoli negli Stati Uniti. Il dataset può essere scaricato da questo link: https://www.kaggle.com/epa/fuel-economy\n",
    "\n",
    "EPA: L'Agenzia per la protezione dell'ambiente degli Stati Uniti (EPA) pubblica dati sulle prestazioni dei veicoli, inclusi i dati sul consumo di carburante. Il dataset può essere scaricato da questo link: https://www.epa.gov/compliance-and-fuel-economy-data/data-cars-used-testing-fuel-economy\n",
    "\n",
    "Open Data Network: Il portale Open Data Network ospita il dataset \"Fuel Economy - EPA 2017\" che contiene informazioni sul consumo di carburante di diversi veicoli negli Stati Uniti. Il dataset può essere scaricato da questo link: https://data.opendatasoft.com/explore/dataset/fuel-economy-epa-2017/information/"
   ]
  },
  {
   "cell_type": "markdown",
   "id": "c683e172",
   "metadata": {},
   "source": [
    "OBIETTIVO: METTERE IN RELAZIONE IL CONSUMO DI CARBURANTE (TARGET) CON UNA CARATTERISTICA DEL MOTORE O DELL'AUTOVETTURA (FEATURE),  per es la potenza del motore, il peso dell'auto. \n",
    "Procedi seguendo i seguenti step:\n",
    "- Ricerca le banche dati sui siti indicati e scaricale in locale\n",
    "- Importa le banche dati in Pandas\n",
    "- Ripulisci le banche dati in modo da eliminare eventuali NaN\n",
    "- Individua la colonna feature e la colonna target nel dataframe e genera il training set\n",
    "- Visualizza i dati per avere un'idea della relazione tra le variabili\n",
    "- Effettua il training con una LinearRegression\n",
    "- Plotta la regression line e fai qualche previsione di consumo\n",
    "- Calcola il MSE\n",
    "- Ripeti l'operazione con altre features e verifica con quale feature ottieni un MSE più basso.\n",
    "\n",
    "Ps. Per l'ultimo punto potresti pensare di creare una tabella con tutte le colonne con le features che hai preso in considerazione e una colonna finale come target. A questo punto fai un ciclo per tutte le coppie (colonna iesima - target) e ogni volta chiami la funzione di training, calcolando il rispettivo MSE che inserisci man mano in una lista. \n",
    "Alla fine del ciclo hai tutti i valori MSE per ogni coppia di training\n",
    "\n"
   ]
  }
 ],
 "metadata": {
  "hide_input": false,
  "kernelspec": {
   "display_name": "Python 3 (ipykernel)",
   "language": "python",
   "name": "python3"
  },
  "language_info": {
   "codemirror_mode": {
    "name": "ipython",
    "version": 3
   },
   "file_extension": ".py",
   "mimetype": "text/x-python",
   "name": "python",
   "nbconvert_exporter": "python",
   "pygments_lexer": "ipython3",
   "version": "3.9.12"
  },
  "varInspector": {
   "cols": {
    "lenName": 16,
    "lenType": 16,
    "lenVar": 40
   },
   "kernels_config": {
    "python": {
     "delete_cmd_postfix": "",
     "delete_cmd_prefix": "del ",
     "library": "var_list.py",
     "varRefreshCmd": "print(var_dic_list())"
    },
    "r": {
     "delete_cmd_postfix": ") ",
     "delete_cmd_prefix": "rm(",
     "library": "var_list.r",
     "varRefreshCmd": "cat(var_dic_list()) "
    }
   },
   "types_to_exclude": [
    "module",
    "function",
    "builtin_function_or_method",
    "instance",
    "_Feature"
   ],
   "window_display": false
  }
 },
 "nbformat": 4,
 "nbformat_minor": 5
}
